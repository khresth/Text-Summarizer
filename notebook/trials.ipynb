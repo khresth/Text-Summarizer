{
 "cells": [
  {
   "cell_type": "code",
   "execution_count": 1,
   "metadata": {},
   "outputs": [],
   "source": [
    "user = {\n",
    "    \"name\": \"Shresth\",\n",
    "    \"age\": 19,\n",
    "    \"profession\": \"IB at Morgan Stanley\",\n",
    "    \"is_active\": True\n",
    "}\n"
   ]
  },
  {
   "cell_type": "code",
   "execution_count": 2,
   "metadata": {},
   "outputs": [],
   "source": [
    "from box import ConfigBox\n",
    "\n",
    "user = ConfigBox({\n",
    "    \"name\": \"Shresth\",\n",
    "    \"age\": 19,\n",
    "    \"profession\": \"IB at Morgan Stanley\",\n",
    "    \"is_active\": True\n",
    "})\n"
   ]
  },
  {
   "cell_type": "code",
   "execution_count": 3,
   "metadata": {},
   "outputs": [
    {
     "data": {
      "text/plain": [
       "'Shresth'"
      ]
     },
     "execution_count": 3,
     "metadata": {},
     "output_type": "execute_result"
    }
   ],
   "source": [
    "user.name"
   ]
  },
  {
   "cell_type": "code",
   "execution_count": 7,
   "metadata": {},
   "outputs": [
    {
     "name": "stderr",
     "output_type": "stream",
     "text": [
      "Device set to use cuda:0\n"
     ]
    }
   ],
   "source": [
    "from transformers import pipeline\n",
    "summarizer = pipeline(\"summarization\", model=\"Falconsai/text_summarization\")\n"
   ]
  },
  {
   "cell_type": "code",
   "execution_count": 8,
   "metadata": {},
   "outputs": [],
   "source": [
    "ARTICLE = \"\"\" \n",
    "CUPERTINO, CALIFORNIA Apple today announced financial results for its fiscal 2024 fourth quarter ended September 28, 2024. The Company posted quarterly revenue of $94.9 billion, up 6 percent year over year, and quarterly diluted earnings per share of $0.97. Diluted earnings per share was $1.64,1 up 12 percent year over year when excluding the one-time charge recognized during the fourth quarter of 2024 related to the impact of the reversal of the European General Court’s State Aid decision.\n",
    "“Today Apple is reporting a new September quarter revenue record of $94.9 billion, up 6 percent from a year ago,” said Tim Cook, Apple’s CEO. “During the quarter, we were excited to announce our best products yet, with the all-new iPhone 16 lineup, Apple Watch Series 10, AirPods 4, and remarkable features for hearing health and sleep apnea detection. And this week, we released our first set of features for Apple Intelligence, which sets a new standard for privacy in AI and supercharges our lineup heading into the holiday season.”\n",
    "“Our record business performance during the September quarter drove nearly $27 billion in operating cash flow, allowing us to return over $29 billion to our shareholders,” said Luca Maestri, Apple’s CFO. “We are very pleased that our active installed base of devices reached a new all-time high across all products and all geographic segments, thanks to our high levels of customer satisfaction and loyalty.”\n",
    "Apple’s board of directors has declared a cash dividend of $0.25 per share of the Company’s common stock. The dividend is payable on November 14, 2024 to shareholders of record as of the close of business on November 11, 2024.\n",
    "Apple will provide live streaming of its Q4 2024 financial results conference call beginning at 2:00 p.m. PT on October 31, 2024 at apple.com/investor/earnings-call. The webcast will be available for replay for approximately two weeks thereafter.\n",
    "\"\"\"\n"
   ]
  },
  {
   "cell_type": "code",
   "execution_count": 9,
   "metadata": {},
   "outputs": [
    {
     "name": "stdout",
     "output_type": "stream",
     "text": [
      "The Company posted quarterly revenue of $94.9 billion . Diluted earnings per share was $1.64,1 up 12 percent year over year . Apple is reporting a new September quarter revenue record . This week, we released our first set of features for Apple Intelligence .\n"
     ]
    }
   ],
   "source": [
    "summary = summarizer(ARTICLE, max_length=100, min_length=30, do_sample=False)\n",
    "print(summary[0]['summary_text'])\n"
   ]
  }
 ],
 "metadata": {
  "kernelspec": {
   "display_name": "Python 3",
   "language": "python",
   "name": "python3"
  },
  "language_info": {
   "codemirror_mode": {
    "name": "ipython",
    "version": 3
   },
   "file_extension": ".py",
   "mimetype": "text/x-python",
   "name": "python",
   "nbconvert_exporter": "python",
   "pygments_lexer": "ipython3",
   "version": "3.12.8"
  }
 },
 "nbformat": 4,
 "nbformat_minor": 2
}
